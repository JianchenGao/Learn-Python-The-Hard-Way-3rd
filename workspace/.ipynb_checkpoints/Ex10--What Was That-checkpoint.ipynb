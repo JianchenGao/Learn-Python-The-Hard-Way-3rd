{
 "cells": [
  {
   "cell_type": "code",
   "execution_count": 1,
   "metadata": {},
   "outputs": [
    {
     "name": "stdout",
     "output_type": "stream",
     "text": [
      "\tI'm tabbed in.\n",
      "I'm split\n",
      "on a line.\n",
      "I'm \\ a \\ cat.\n",
      "\n",
      "I'll do a list:\n",
      "\t* Cat food\n",
      "\t* Fishies\n",
      "\t* Catnip\n",
      "\t* Grass\n",
      "\n"
     ]
    }
   ],
   "source": [
    "tabby_cat = \"\\tI'm tabbed in.\"\n",
    "persian_cat = \"I'm split\\non a line.\"\n",
    "backslash_cat = \"I'm \\\\ a \\\\ cat.\"\n",
    "fat_cat = \"\"\"\n",
    "I'll do a list:\n",
    "\\t* Cat food\n",
    "\\t* Fishies\n",
    "\\t* Catnip\\n\\t* Grass\n",
    "\"\"\"\n",
    "print (tabby_cat)\n",
    "print (persian_cat)\n",
    "print (backslash_cat)\n",
    "print (fat_cat)"
   ]
  },
  {
   "cell_type": "markdown",
   "metadata": {},
   "source": [
    "Escape What it does.\n",
    "\\\\ Backslash ()\n",
    "\\' Single quote (')\n",
    "\\\" Double quote (\")\n",
    "\\a ASCII Bell (BEL)\n",
    "\\b ASCII Backspace (BS)\n",
    "\\f ASCII Formfeed (FF)\n",
    "\\n ASCII Linefeed (LF)\n",
    "\\N{name} Character named name in the Unicode database (Unicode\n",
    "only)\n",
    "\\r ASCII Carriage Return (CR)\n",
    "\\t ASCII Horizontal Tab (TAB)\n",
    "\\uxxxx Character with 16-bit hex value xxxx (Unicode only)\n",
    "\\Uxxxxxxxx Character with 32-bit hex value xxxxxxxx (Unicode only)\n",
    "\\v ASCII Vertical Tab (VT)\n",
    "\\ooo Character with octal value ooo\n",
    "\\xhh Character with hex value hh"
   ]
  },
  {
   "cell_type": "code",
   "execution_count": null,
   "metadata": {},
   "outputs": [],
   "source": []
  }
 ],
 "metadata": {
  "kernelspec": {
   "display_name": "Python [conda root]",
   "language": "python",
   "name": "conda-root-py"
  },
  "language_info": {
   "codemirror_mode": {
    "name": "ipython",
    "version": 3
   },
   "file_extension": ".py",
   "mimetype": "text/x-python",
   "name": "python",
   "nbconvert_exporter": "python",
   "pygments_lexer": "ipython3",
   "version": "3.6.4"
  }
 },
 "nbformat": 4,
 "nbformat_minor": 2
}
