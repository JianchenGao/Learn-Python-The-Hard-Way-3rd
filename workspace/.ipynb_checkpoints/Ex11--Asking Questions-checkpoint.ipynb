{
 "cells": [
  {
   "cell_type": "code",
   "execution_count": 2,
   "metadata": {},
   "outputs": [
    {
     "name": "stdout",
     "output_type": "stream",
     "text": [
      "How old are you? 44\n",
      "How tall are you? 66\n",
      "How much do you weigh? 77\n",
      "So, you're '44' old, '66' tall and '77' heavy.\n"
     ]
    }
   ],
   "source": [
    "print (\"How old are you?\",end = \" \")\n",
    "age = input() #从用户端获取数据\n",
    "print (\"How tall are you?\",end = \" \")\n",
    "height = input()\n",
    "print (\"How much do you weigh?\",end = \" \")\n",
    "weight = input()\n",
    "print (\"So, you're %r old, %r tall and %r heavy.\" % (\n",
    "age, height, weight))"
   ]
  },
  {
   "cell_type": "code",
   "execution_count": null,
   "metadata": {},
   "outputs": [],
   "source": []
  }
 ],
 "metadata": {
  "kernelspec": {
   "display_name": "Python [conda root]",
   "language": "python",
   "name": "conda-root-py"
  },
  "language_info": {
   "codemirror_mode": {
    "name": "ipython",
    "version": 3
   },
   "file_extension": ".py",
   "mimetype": "text/x-python",
   "name": "python",
   "nbconvert_exporter": "python",
   "pygments_lexer": "ipython3",
   "version": "3.6.4"
  }
 },
 "nbformat": 4,
 "nbformat_minor": 2
}
