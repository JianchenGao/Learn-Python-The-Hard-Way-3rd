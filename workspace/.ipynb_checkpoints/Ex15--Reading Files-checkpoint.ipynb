{
 "cells": [
  {
   "cell_type": "code",
   "execution_count": 2,
   "metadata": {},
   "outputs": [
    {
     "name": "stdout",
     "output_type": "stream",
     "text": [
      "scriptjhg\n",
      "filenameEx15_sample.txt\n",
      "Here's your file 'Ex15_sample.txt':\n",
      "This is stuff I typed into a file.\n",
      "It is really cool stuff.\n",
      "Lots and lots of fun to have in here.\n",
      "\n",
      "Type the filename again:\n",
      "> Ex15_sample.txt\n",
      "This is stuff I typed into a file.\n",
      "It is really cool stuff.\n",
      "Lots and lots of fun to have in here.\n",
      "\n"
     ]
    }
   ],
   "source": [
    "script = input(\"script\")\n",
    "filename = input(\"filename\")\n",
    "txt = open(filename)\n",
    "print (\"Here's your file %r:\" % filename)\n",
    "print (txt.read())\n",
    "print (\"Type the filename again:\")\n",
    "file_again = input(\"> \")\n",
    "txt_again = open(file_again)\n",
    "print (txt_again.read())"
   ]
  },
  {
   "cell_type": "code",
   "execution_count": null,
   "metadata": {},
   "outputs": [],
   "source": []
  }
 ],
 "metadata": {
  "kernelspec": {
   "display_name": "Python [conda root]",
   "language": "python",
   "name": "conda-root-py"
  },
  "language_info": {
   "codemirror_mode": {
    "name": "ipython",
    "version": 3
   },
   "file_extension": ".py",
   "mimetype": "text/x-python",
   "name": "python",
   "nbconvert_exporter": "python",
   "pygments_lexer": "ipython3",
   "version": "3.6.4"
  }
 },
 "nbformat": 4,
 "nbformat_minor": 2
}
