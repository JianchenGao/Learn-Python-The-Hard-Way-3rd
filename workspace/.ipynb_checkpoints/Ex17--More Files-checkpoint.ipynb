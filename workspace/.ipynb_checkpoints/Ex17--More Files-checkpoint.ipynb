{
 "cells": [
  {
   "cell_type": "code",
   "execution_count": 1,
   "metadata": {},
   "outputs": [
    {
     "name": "stdout",
     "output_type": "stream",
     "text": [
      "scriptdsa\n",
      "from_fileEx17_from_file.txt\n",
      "to_fileEx17_to_file.txt\n",
      "Copying from Ex17_from_file.txt to Ex17_to_file.txt\n",
      "The input file is 19 bytes long\n",
      "Alright, all done.\n"
     ]
    }
   ],
   "source": [
    "script = input(\"script\")\n",
    "from_file = input(\"from_file\")#输入源文件名\n",
    "to_file = input(\"to_file\")#输入目标文件名\n",
    "print (\"Copying from %s to %s\" % (from_file, to_file))#打印文件名信息\n",
    "# we could do these two on one line too, how?\n",
    "in_file = open(from_file)#打开源文件，默认读的方式\n",
    "indata = in_file.read()#读取源文件中的信息\n",
    "print (\"The input file is %d bytes long\" % len(indata))#输出源文件长度\n",
    "out_file = open(to_file, 'w')#以写的方式打开目标文件\n",
    "out_file.write(indata)#将信息写入\n",
    "print (\"Alright, all done.\")#打印相关信息\n",
    "out_file.close()#关闭目标文件\n",
    "in_file.close()#关闭源文件"
   ]
  },
  {
   "cell_type": "code",
   "execution_count": null,
   "metadata": {},
   "outputs": [],
   "source": []
  }
 ],
 "metadata": {
  "kernelspec": {
   "display_name": "Python [conda root]",
   "language": "python",
   "name": "conda-root-py"
  },
  "language_info": {
   "codemirror_mode": {
    "name": "ipython",
    "version": 3
   },
   "file_extension": ".py",
   "mimetype": "text/x-python",
   "name": "python",
   "nbconvert_exporter": "python",
   "pygments_lexer": "ipython3",
   "version": "3.6.4"
  }
 },
 "nbformat": 4,
 "nbformat_minor": 2
}
