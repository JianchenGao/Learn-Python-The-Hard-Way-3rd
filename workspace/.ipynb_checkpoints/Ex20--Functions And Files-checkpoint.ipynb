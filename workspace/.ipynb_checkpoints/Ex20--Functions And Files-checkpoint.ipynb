{
 "cells": [
  {
   "cell_type": "code",
   "execution_count": 3,
   "metadata": {},
   "outputs": [
    {
     "name": "stdout",
     "output_type": "stream",
     "text": [
      "scripthgj\n",
      "input_fileEx20_sample.txt\n",
      "First let's print the whole file:\n",
      "\n",
      "Hello\n",
      "Jianchen\n",
      "Now let's rewind, kind of like a tape.\n",
      "Let's print three lines:\n",
      "1 Hello\n",
      "\n",
      "2 Jianchen\n",
      "3 \n"
     ]
    }
   ],
   "source": [
    "script = input(\"script\")\n",
    "input_file = input(\"input_file\")\n",
    "\n",
    "def print_all(f):#打印文件中的内容\n",
    "    print (f.read())\n",
    "    \n",
    "def rewind(f):#设置seek指针位置\n",
    "    f.seek(0)\n",
    "    \n",
    "def print_a_line(line_count, f):#打印某一行\n",
    "    print (line_count, f.readline())\n",
    "    \n",
    "current_file = open(input_file)#打开源文件\n",
    "\n",
    "print (\"First let's print the whole file:\\n\")\n",
    "\n",
    "print_all(current_file)#输出文件所有内容\n",
    "\n",
    "print (\"Now let's rewind, kind of like a tape.\")\n",
    "\n",
    "rewind(current_file)#将seek指针指向文件头\n",
    "\n",
    "print (\"Let's print three lines:\")\n",
    "\n",
    "current_line = 1\n",
    "print_a_line(current_line, current_file)#打印第一行\n",
    "\n",
    "current_line = current_line + 1\n",
    "print_a_line(current_line, current_file)\n",
    "\n",
    "current_line = current_line + 1\n",
    "print_a_line(current_line, current_file)"
   ]
  },
  {
   "cell_type": "code",
   "execution_count": null,
   "metadata": {},
   "outputs": [],
   "source": []
  }
 ],
 "metadata": {
  "kernelspec": {
   "display_name": "Python [conda root]",
   "language": "python",
   "name": "conda-root-py"
  },
  "language_info": {
   "codemirror_mode": {
    "name": "ipython",
    "version": 3
   },
   "file_extension": ".py",
   "mimetype": "text/x-python",
   "name": "python",
   "nbconvert_exporter": "python",
   "pygments_lexer": "ipython3",
   "version": "3.6.4"
  }
 },
 "nbformat": 4,
 "nbformat_minor": 2
}
