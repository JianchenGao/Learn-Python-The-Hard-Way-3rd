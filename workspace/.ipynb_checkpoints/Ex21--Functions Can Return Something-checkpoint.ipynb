{
 "cells": [
  {
   "cell_type": "code",
   "execution_count": 3,
   "metadata": {},
   "outputs": [
    {
     "name": "stdout",
     "output_type": "stream",
     "text": [
      "Let's do some math with just functions!\n",
      "ADDING 30 + 5\n",
      "SUBTRACTING 78 - 4\n",
      "MULTIPLYING 90 * 2\n",
      "DIVIDING 100 / 2\n",
      "Age: 35, Height: 74, Weight: 180, IQ: 50\n",
      "Here is a puzzle.\n",
      "DIVIDING 50 / 2\n",
      "MULTIPLYING 180 * 25\n",
      "SUBTRACTING 74 - 4500\n",
      "ADDING 35 + -4426\n",
      "That becomes:  -4391.0 Can you do it by hand?\n"
     ]
    }
   ],
   "source": [
    "def add(a, b):\n",
    "    print (\"ADDING %d + %d\" % (a, b))\n",
    "    return a + b\n",
    "\n",
    "def subtract(a, b):\n",
    "    print (\"SUBTRACTING %d - %d\" % (a, b))\n",
    "    return a - b\n",
    "\n",
    "def multiply(a, b):\n",
    "    print (\"MULTIPLYING %d * %d\" % (a, b))\n",
    "    return a * b\n",
    "\n",
    "def divide(a, b):\n",
    "    print (\"DIVIDING %d / %d\" % (a, b))\n",
    "    return a / b\n",
    "\n",
    "print (\"Let's do some math with just functions!\")\n",
    "\n",
    "age = add(30, 5)\n",
    "height = subtract(78, 4)\n",
    "weight = multiply(90, 2)\n",
    "iq = divide(100, 2)\n",
    "\n",
    "print (\"Age: %d, Height: %d, Weight: %d, IQ: %d\" % (age, height, weight, iq))\n",
    "# A puzzle for the extra credit, type it in anyway.\n",
    "print (\"Here is a puzzle.\")\n",
    "what = add(age, subtract(height, multiply(weight, divide(iq, 2))))#依次求值\n",
    "print (\"That becomes: \", what, \"Can you do it by hand?\")"
   ]
  },
  {
   "cell_type": "code",
   "execution_count": null,
   "metadata": {},
   "outputs": [],
   "source": []
  }
 ],
 "metadata": {
  "kernelspec": {
   "display_name": "Python [conda root]",
   "language": "python",
   "name": "conda-root-py"
  },
  "language_info": {
   "codemirror_mode": {
    "name": "ipython",
    "version": 3
   },
   "file_extension": ".py",
   "mimetype": "text/x-python",
   "name": "python",
   "nbconvert_exporter": "python",
   "pygments_lexer": "ipython3",
   "version": "3.6.4"
  }
 },
 "nbformat": 4,
 "nbformat_minor": 2
}
