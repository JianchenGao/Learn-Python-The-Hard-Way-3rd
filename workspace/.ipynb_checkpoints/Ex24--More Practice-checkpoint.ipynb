{
 "cells": [
  {
   "cell_type": "code",
   "execution_count": 2,
   "metadata": {},
   "outputs": [
    {
     "name": "stdout",
     "output_type": "stream",
     "text": [
      "Let's practice everything.\n",
      "You'd need to know 'bout escapes with \\ that do \n",
      " newlines and \t tabs.\n",
      "--------------\n",
      "\n",
      "\tThe lovely world\n",
      "with logic so firmly planted\n",
      "cannot discern \n",
      " the needs of love\n",
      "nor comprehend passion from intuition\n",
      "and requires an explanation\n",
      "\n",
      "\t\twhere there is none.\n",
      "\n",
      "--------------\n",
      "This should be five: 5\n",
      "With a starting point of: 10000\n",
      "We'd have 5000000 beans, 5000 jars, and 50 crates.\n",
      "We can also do that this way:\n",
      "We'd have 500000 beans, 500 jars, and 5 crates.\n"
     ]
    }
   ],
   "source": [
    "print (\"Let's practice everything.\")\n",
    "print ('You\\'d need to know \\'bout escapes with \\\\ that do \\n newlines and \\t tabs.')\n",
    "poem = \"\"\"\n",
    "\\tThe lovely world\n",
    "with logic so firmly planted\n",
    "cannot discern \\n the needs of love\n",
    "nor comprehend passion from intuition\n",
    "and requires an explanation\n",
    "\\n\\t\\twhere there is none.\n",
    "\"\"\"\n",
    "print (\"--------------\")\n",
    "print (poem)\n",
    "print (\"--------------\")\n",
    "five = 10 - 2 + 3 - 6\n",
    "print (\"This should be five: %s\" % five)\n",
    "\n",
    "def secret_formula(started):\n",
    "    jelly_beans = started * 500\n",
    "    jars = jelly_beans / 1000\n",
    "    crates = jars / 100\n",
    "    return jelly_beans, jars, crates\n",
    "\n",
    "start_point = 10000\n",
    "beans, jars, crates = secret_formula(start_point)\n",
    "print (\"With a starting point of: %d\" % start_point)\n",
    "print (\"We'd have %d beans, %d jars, and %d crates.\" % (beans, jars, crates))\n",
    "start_point = start_point / 10\n",
    "print (\"We can also do that this way:\")\n",
    "print (\"We'd have %d beans, %d jars, and %d crates.\" % secret_formula(start_point))\n",
    "#将函数返回结果直接输出到对应的占位符"
   ]
  },
  {
   "cell_type": "code",
   "execution_count": null,
   "metadata": {},
   "outputs": [],
   "source": []
  }
 ],
 "metadata": {
  "kernelspec": {
   "display_name": "Python [conda root]",
   "language": "python",
   "name": "conda-root-py"
  },
  "language_info": {
   "codemirror_mode": {
    "name": "ipython",
    "version": 3
   },
   "file_extension": ".py",
   "mimetype": "text/x-python",
   "name": "python",
   "nbconvert_exporter": "python",
   "pygments_lexer": "ipython3",
   "version": "3.6.4"
  }
 },
 "nbformat": 4,
 "nbformat_minor": 2
}
