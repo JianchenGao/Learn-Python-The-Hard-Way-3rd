{
 "cells": [
  {
   "cell_type": "code",
   "execution_count": 8,
   "metadata": {},
   "outputs": [
    {
     "name": "stdout",
     "output_type": "stream",
     "text": [
      "I AM APPLES!\n"
     ]
    }
   ],
   "source": [
    "mystuff = {'apple': \"I AM APPLES!\"}\n",
    "print (mystuff['apple'])"
   ]
  },
  {
   "cell_type": "code",
   "execution_count": 14,
   "metadata": {},
   "outputs": [],
   "source": [
    "class MyStuff(object):\n",
    "    tangerine = \"And now a thousand years between\"\n",
    "    def _init_(self):\n",
    "        self.tangerine = \"And now a thousand years between\"\n",
    "    \n",
    "    def apple(self):\n",
    "        print(\"I AM CLASSY APPLES!\")"
   ]
  },
  {
   "cell_type": "code",
   "execution_count": 15,
   "metadata": {},
   "outputs": [
    {
     "name": "stdout",
     "output_type": "stream",
     "text": [
      "I AM CLASSY APPLES!\n",
      "And now a thousand years between\n"
     ]
    }
   ],
   "source": [
    "thing = MyStuff()\n",
    "thing.apple()\n",
    "print(thing.tangerine)"
   ]
  },
  {
   "cell_type": "code",
   "execution_count": null,
   "metadata": {},
   "outputs": [],
   "source": []
  },
  {
   "cell_type": "code",
   "execution_count": 17,
   "metadata": {},
   "outputs": [
    {
     "name": "stdout",
     "output_type": "stream",
     "text": [
      "Happy birthday to you\n",
      "I don't want to get sued\n",
      "So I'll stop right there\n",
      "They rally around the family\n",
      "With pockets full of shells\n"
     ]
    }
   ],
   "source": [
    "class Song(object):\n",
    "    def __init__(self, lyrics):#lyrics为参数，在实例化时传入\n",
    "        self.lyrics = lyrics\n",
    "\n",
    "    def sing_me_a_song(self):\n",
    "        for line in self.lyrics:\n",
    "            print (line)\n",
    "\n",
    "happy_bday = Song([\"Happy birthday to you\",\n",
    "                    \"I don't want to get sued\",\n",
    "                    \"So I'll stop right there\"])\n",
    "\n",
    "bulls_on_parade = Song([\"They rally around the family\",\n",
    "                        \"With pockets full of shells\"])\n",
    "happy_bday.sing_me_a_song()\n",
    "\n",
    "bulls_on_parade.sing_me_a_song()"
   ]
  },
  {
   "cell_type": "code",
   "execution_count": null,
   "metadata": {},
   "outputs": [],
   "source": []
  }
 ],
 "metadata": {
  "kernelspec": {
   "display_name": "Python [conda root]",
   "language": "python",
   "name": "conda-root-py"
  },
  "language_info": {
   "codemirror_mode": {
    "name": "ipython",
    "version": 3
   },
   "file_extension": ".py",
   "mimetype": "text/x-python",
   "name": "python",
   "nbconvert_exporter": "python",
   "pygments_lexer": "ipython3",
   "version": "3.6.4"
  }
 },
 "nbformat": 4,
 "nbformat_minor": 2
}
