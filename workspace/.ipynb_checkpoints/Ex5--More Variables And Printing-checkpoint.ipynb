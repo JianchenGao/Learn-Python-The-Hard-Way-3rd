{
 "cells": [
  {
   "cell_type": "code",
   "execution_count": 3,
   "metadata": {},
   "outputs": [
    {
     "name": "stdout",
     "output_type": "stream",
     "text": [
      "Let's talk about Zed A. Shaw.\n",
      "he's 74 inches tall.\n",
      "he's 180 pounds heavy.\n",
      "Actually that's not too heavy.\n",
      "He's got Blue eyes and Brown hair.\n",
      "His teeth are usually White depending on the coffee.\n",
      "If I add 35, 74, and 180 I get 289.\n"
     ]
    }
   ],
   "source": [
    "my_name = 'Zed A. Shaw'\n",
    "my_age = 35 #not a lie\n",
    "my_height = 74 # inches\n",
    "my_weight = 180 # lbs\n",
    "my_eyes = 'Blue'\n",
    "my_teeth = 'White'\n",
    "my_hair = 'Brown'\n",
    "\n",
    "print(\"Let's talk about %s.\" % my_name)\n",
    "print(\"he's %d inches tall.\" % my_height)\n",
    "print(\"he's %d pounds heavy.\" % my_weight)\n",
    "print(\"Actually that's not too heavy.\")\n",
    "print(\"He's got %s eyes and %s hair.\" %(my_eyes,my_hair))\n",
    "print(\"His teeth are usually %s depending on the coffee.\"%my_teeth)\n",
    "\n",
    "# this line is tricky,try to get it exactly right\n",
    "print(\"If I add %d, %d, and %d I get %d.\" %(\n",
    "    my_age,my_height,my_weight,my_age+my_height+my_weight))\n"
   ]
  },
  {
   "cell_type": "markdown",
   "metadata": {},
   "source": [
    "%s    字符串 (采用str()的显示)\n",
    "\n",
    "%r    字符串 (采用repr()的显示)\n",
    "\n",
    "%c    单个字符\n",
    "\n",
    "%b    二进制整数\n",
    "\n",
    "%d    十进制整数\n",
    "\n",
    "%i    十进制整数\n",
    "\n",
    "%o    八进制整数\n",
    "\n",
    "%x    十六进制整数\n",
    "\n",
    "%e    指数 (基底写为e)\n",
    "\n",
    "%E    指数 (基底写为E)\n",
    "\n",
    "%f    浮点数\n",
    "\n",
    "%F    浮点数，与上相同\n",
    "\n",
    "%g    指数(e)\u0010或浮点数 (根据显示长度)\n",
    "\n",
    "%G    指数(E)或浮点数 (根据显示长度)\n",
    "\n",
    " \n",
    "\n",
    "%%    字符\"%\""
   ]
  },
  {
   "cell_type": "code",
   "execution_count": null,
   "metadata": {},
   "outputs": [],
   "source": []
  }
 ],
 "metadata": {
  "kernelspec": {
   "display_name": "Python [conda root]",
   "language": "python",
   "name": "conda-root-py"
  },
  "language_info": {
   "codemirror_mode": {
    "name": "ipython",
    "version": 3
   },
   "file_extension": ".py",
   "mimetype": "text/x-python",
   "name": "python",
   "nbconvert_exporter": "python",
   "pygments_lexer": "ipython3",
   "version": "3.6.4"
  }
 },
 "nbformat": 4,
 "nbformat_minor": 2
}
