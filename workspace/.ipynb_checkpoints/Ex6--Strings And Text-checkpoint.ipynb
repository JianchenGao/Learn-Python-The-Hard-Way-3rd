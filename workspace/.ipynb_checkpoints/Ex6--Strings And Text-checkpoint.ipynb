{
 "cells": [
  {
   "cell_type": "code",
   "execution_count": 4,
   "metadata": {},
   "outputs": [
    {
     "name": "stdout",
     "output_type": "stream",
     "text": [
      "There are 10 types of people.\n",
      "Those who know binary and those who don't.\n",
      "I said: 'There are 10 types of people.'.\n",
      "I also said: 'Those who know binary and those who don't.'.\n",
      "Isn't that joke so funny?! False\n",
      "This is the left side of...a string with a right side.\n"
     ]
    }
   ],
   "source": [
    "x = \"There are %d types of people.\" % 10 #用一个表达式定义变量x\n",
    "binary = \"binary\" #定义一个string变量\n",
    "do_not = \"don't\" #定义变量\n",
    "y = \"Those who know %s and those who %s.\" % (binary, do_not) \n",
    "#用一个标准格式表达式定义变量\n",
    "\n",
    "print (x)\n",
    "print (y)\n",
    "print (\"I said: %r.\" % x) #用%r格式输出，%r相比于%s更直接，会将''也输出\n",
    "print (\"I also said: '%s'.\" % y)\n",
    "hilarious = False\n",
    "joke_evaluation = \"Isn't that joke so funny?! %r\" \n",
    "#string变量中含所有输出格式符,%r和%s输出False，%d则输出0\n",
    "\n",
    "print (joke_evaluation % hilarious)\n",
    "w = \"This is the left side of...\"\n",
    "e = \"a string with a right side.\"\n",
    "print (w + e) #将两个str变量中的内容连接起来"
   ]
  },
  {
   "cell_type": "code",
   "execution_count": null,
   "metadata": {},
   "outputs": [],
   "source": []
  }
 ],
 "metadata": {
  "kernelspec": {
   "display_name": "Python [conda root]",
   "language": "python",
   "name": "conda-root-py"
  },
  "language_info": {
   "codemirror_mode": {
    "name": "ipython",
    "version": 3
   },
   "file_extension": ".py",
   "mimetype": "text/x-python",
   "name": "python",
   "nbconvert_exporter": "python",
   "pygments_lexer": "ipython3",
   "version": "3.6.4"
  }
 },
 "nbformat": 4,
 "nbformat_minor": 2
}
