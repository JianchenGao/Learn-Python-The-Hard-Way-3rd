{
 "cells": [
  {
   "cell_type": "code",
   "execution_count": 1,
   "metadata": {},
   "outputs": [
    {
     "name": "stdout",
     "output_type": "stream",
     "text": [
      "script:stupid\n",
      "user_name:zed\n",
      "Hi zed, I'm the stupid script.\n",
      "I'd like to ask you a few questions.\n",
      "Do you like me zed?\n",
      "> sf\n",
      "Where do you live zed?\n",
      "> t1\n",
      "What kind of computer do you have?\n",
      "> i5\n",
      "\n",
      "Alright, so you said 'sf' about liking me.\n",
      "You live in 't1'. Not sure where that is.\n",
      "And you have a 'i5' computer. Nice.\n",
      "\n"
     ]
    }
   ],
   "source": [
    "script = input(\"script:\") \n",
    "user_name = input(\"user_name:\")\n",
    "\n",
    "prompt = ('> ')\n",
    "print (\"Hi %s, I'm the %s script.\" % (user_name, script))\n",
    "print (\"I'd like to ask you a few questions.\")\n",
    "print (\"Do you like me %s?\" % user_name)\n",
    "likes = input(prompt)\n",
    "print (\"Where do you live %s?\" % user_name)\n",
    "lives = input(prompt)\n",
    "print (\"What kind of computer do you have?\")\n",
    "computer = input(prompt)\n",
    "print( \"\"\"\n",
    "Alright, so you said %r about liking me.\n",
    "You live in %r. Not sure where that is.\n",
    "And you have a %r computer. Nice.\n",
    "\"\"\" % (likes, lives, computer))"
   ]
  },
  {
   "cell_type": "code",
   "execution_count": null,
   "metadata": {},
   "outputs": [],
   "source": []
  }
 ],
 "metadata": {
  "kernelspec": {
   "display_name": "Python [conda root]",
   "language": "python",
   "name": "conda-root-py"
  },
  "language_info": {
   "codemirror_mode": {
    "name": "ipython",
    "version": 3
   },
   "file_extension": ".py",
   "mimetype": "text/x-python",
   "name": "python",
   "nbconvert_exporter": "python",
   "pygments_lexer": "ipython3",
   "version": "3.6.4"
  }
 },
 "nbformat": 4,
 "nbformat_minor": 2
}
