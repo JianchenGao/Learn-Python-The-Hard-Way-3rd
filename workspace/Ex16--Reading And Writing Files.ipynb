{
 "cells": [
  {
   "cell_type": "code",
   "execution_count": 3,
   "metadata": {},
   "outputs": [
    {
     "name": "stdout",
     "output_type": "stream",
     "text": [
      "scriptds\n",
      "filenameEx16_sample.txt\n",
      "We're going to erase 'Ex16_sample.txt'.\n",
      "If you don't want that, hit CTRL-C (^C).\n",
      "If you do want that, hit RETURN.\n",
      "?\n",
      "Opening the file...\n",
      "Truncating the file. Goodbye!\n",
      "Now I'm going to ask you for three lines.\n",
      "line 1: fsda\n",
      "line 2: ass\n",
      "line 3: dfd\n",
      "I'm going to write these to the file.\n",
      "And finally, we close it.\n"
     ]
    }
   ],
   "source": [
    "script = input(\"script\")\n",
    "filename = input(\"filename\")\n",
    "print (\"We're going to erase %r.\" % filename)\n",
    "print (\"If you don't want that, hit CTRL-C (^C).\")\n",
    "print (\"If you do want that, hit RETURN.\")\n",
    "input(\"?\")\n",
    "print (\"Opening the file...\")\n",
    "target = open(filename, 'w')\n",
    "print (\"Truncating the file. Goodbye!\")\n",
    "target.truncate()\n",
    "print (\"Now I'm going to ask you for three lines.\")\n",
    "line1 = input(\"line 1: \")\n",
    "line2 = input(\"line 2: \")\n",
    "line3 = input(\"line 3: \")\n",
    "print (\"I'm going to write these to the file.\")\n",
    "target.write(line1)\n",
    "target.write(\"\\n\")\n",
    "target.write(line2)\n",
    "target.write(\"\\n\")\n",
    "target.write(line3)\n",
    "target.write(\"\\n\")\n",
    "print (\"And finally, we close it.\")\n",
    "target.close()"
   ]
  },
  {
   "cell_type": "code",
   "execution_count": null,
   "metadata": {},
   "outputs": [],
   "source": []
  }
 ],
 "metadata": {
  "kernelspec": {
   "display_name": "Python [conda root]",
   "language": "python",
   "name": "conda-root-py"
  },
  "language_info": {
   "codemirror_mode": {
    "name": "ipython",
    "version": 3
   },
   "file_extension": ".py",
   "mimetype": "text/x-python",
   "name": "python",
   "nbconvert_exporter": "python",
   "pygments_lexer": "ipython3",
   "version": "3.6.4"
  }
 },
 "nbformat": 4,
 "nbformat_minor": 2
}
