{
 "cells": [
  {
   "cell_type": "code",
   "execution_count": 1,
   "metadata": {},
   "outputs": [
    {
     "name": "stdout",
     "output_type": "stream",
     "text": [
      "We should take the cars.\n",
      "Maybe we could take the buses.\n",
      "Alright, let's just take the buses.\n"
     ]
    }
   ],
   "source": [
    "people = 30\n",
    "cars = 40\n",
    "buses = 15\n",
    "\n",
    "if cars > people:\n",
    "    print (\"We should take the cars.\")\n",
    "elif cars < people:\n",
    "    print (\"We should not take the cars.\")\n",
    "else:\n",
    "    print (\"We can't decide.\")\n",
    "    \n",
    "if buses > cars:\n",
    "    print (\"That's too many buses.\")\n",
    "elif buses < cars:\n",
    "    print (\"Maybe we could take the buses.\")\n",
    "else:\n",
    "    print (\"We still can't decide.\")\n",
    "    \n",
    "if people > buses:\n",
    "    print (\"Alright, let's just take the buses.\")\n",
    "else:\n",
    "    print (\"Fine, let's stay home then.\")"
   ]
  },
  {
   "cell_type": "code",
   "execution_count": null,
   "metadata": {},
   "outputs": [],
   "source": []
  }
 ],
 "metadata": {
  "kernelspec": {
   "display_name": "Python [conda root]",
   "language": "python",
   "name": "conda-root-py"
  },
  "language_info": {
   "codemirror_mode": {
    "name": "ipython",
    "version": 3
   },
   "file_extension": ".py",
   "mimetype": "text/x-python",
   "name": "python",
   "nbconvert_exporter": "python",
   "pygments_lexer": "ipython3",
   "version": "3.6.4"
  }
 },
 "nbformat": 4,
 "nbformat_minor": 2
}
